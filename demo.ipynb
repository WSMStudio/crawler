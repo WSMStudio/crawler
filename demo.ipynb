{
 "cells": [
  {
   "cell_type": "markdown",
   "id": "ca6f40cb",
   "metadata": {},
   "source": [
    "## 数据库操作模块"
   ]
  },
  {
   "cell_type": "code",
   "execution_count": 110,
   "id": "3b34b5e1",
   "metadata": {},
   "outputs": [],
   "source": [
    "import sqlite3\n",
    "\n",
    "class Database:\n",
    "\n",
    "    def __init__(self):\n",
    "        self.conn = sqlite3.connect('data.db')\n",
    "        self.cursor = self.conn.cursor()\n",
    "        self.cursor.execute('''\n",
    "            CREATE TABLE IF NOT EXISTS BOOKS\n",
    "            (BID   INT PRIMARY KEY NOT NULL,\n",
    "             TITLE CHAR(30) NOT NULL,\n",
    "             AUTHR CHAR(30) NOT NULL,\n",
    "             PTIME INT,\n",
    "             DESCR TEXT,\n",
    "             CONTENT TEXT);\n",
    "        ''')\n",
    "        self.conn.commit()\n",
    "\n",
    "    def insert(self, bid, title, authr, ptime, descr, content):\n",
    "        self.cursor.execute('''\n",
    "            INSERT INTO BOOKS(BID, TITLE, AUTHR, PTIME, DESCR, CONTENT)\n",
    "            VALUES(?, ?, ?, ?, ?, ?);''', (bid, title, authr, ptime, descr, content))\n",
    "        self.conn.commit()\n",
    "    \n",
    "    def printb(self, title):\n",
    "        values = self.cursor.execute('''SELECT * FROM BOOKS WHERE TITLE=?''', (title, ))\n",
    "        for bid, title, authr, ptime, descr, _ in values:\n",
    "            print(f'[  BID]: {bid}\\n[TITLE]: {title}\\n[AUTHR]: {authr}\\n[PTIME]: {ptime}\\n[DESCR]: {descr}\\n')\n",
    "            \n",
    "    def update(self, bid, field, value):\n",
    "        self.cursor.execute('''\n",
    "            UPDATE BOOKS SET %s = ? WHERE BID = ?;\n",
    "        ''' % field.upper(), (value, bid))\n",
    "        self.conn.commit()\n",
    "        \n",
    "    def close(self):\n",
    "        self.conn.close()"
   ]
  },
  {
   "cell_type": "markdown",
   "id": "4496d0c0",
   "metadata": {},
   "source": [
    "## 使用说明\n",
    "参考博客：[python + sqlite3 基本操作](https://blog.csdn.net/weixin_43789195/article/details/88201873)"
   ]
  },
  {
   "cell_type": "markdown",
   "id": "50832b01",
   "metadata": {},
   "source": [
    "### 初始化数据库\n",
    "连接（不存在则自动创建）、建表（不存在则自动创建）\n",
    "\n",
    "+ 表名为`BOOKS`\n",
    "\n",
    "|字段名|含义|数据类型|要求|\n",
    "|---|---|---|---|\n",
    "|BID|书的编号|INT|PRIMARY KEY、NOT NULL|\n",
    "|TITLE|标题|CHAR(30)| NOT NULL|\n",
    "|AUTHR|作者|CHAR(30)| NOT NULL|\n",
    "|PTIME|出版年份|INT|-|\n",
    "|DESCR|描述|TEXT|-|\n",
    "|CONTENT|内容|TEXT|-|"
   ]
  },
  {
   "cell_type": "code",
   "execution_count": 112,
   "id": "5865ea38",
   "metadata": {},
   "outputs": [],
   "source": [
    "database = Database()"
   ]
  },
  {
   "cell_type": "markdown",
   "id": "531978cb",
   "metadata": {},
   "source": [
    "### 插入一本书\n",
    "参数依次为BID，TITLE，AUTHR，PTIME，DESCR，CONTENT，注意传入的数据类型"
   ]
  },
  {
   "cell_type": "code",
   "execution_count": null,
   "id": "8e11df36",
   "metadata": {},
   "outputs": [],
   "source": [
    "database.insert(0, title, authr, ptime, ' ', ' ')"
   ]
  },
  {
   "cell_type": "markdown",
   "id": "8cfaa94d",
   "metadata": {},
   "source": [
    "### 更新一本书的属性\n",
    "参数依次为BID，控制的属性名field，更新后的属性值value"
   ]
  },
  {
   "cell_type": "code",
   "execution_count": 114,
   "id": "08434d85",
   "metadata": {},
   "outputs": [],
   "source": [
    "database.update(0, 'descr', descr)"
   ]
  },
  {
   "cell_type": "markdown",
   "id": "2366623b",
   "metadata": {},
   "source": [
    "### 输出一本书的简要信息\n",
    "参数为书名"
   ]
  },
  {
   "cell_type": "code",
   "execution_count": 115,
   "id": "83d556fc",
   "metadata": {},
   "outputs": [
    {
     "name": "stdout",
     "output_type": "stream",
     "text": [
      "[  BID]: 0\n",
      "[TITLE]: Boob Tube (a Soap Opera Novel)\n",
      "[AUTHR]: Mark Coker; & Lesleyann Coker\n",
      "[PTIME]: 2008-03-07\n",
      "[DESCR]: Actress Gina Martin lands a role on a top daytime television soap opera, and days later her predecessor is found dead in the Hollywood hills. Will Gina be next? Boob Tube offers readers a fast-paced read filled with intrigue and humor, and a surprise ending that will leave you breathless. Co-written by Lesleyann Coker, a former reporter for Soap Opera Weekly Magazine.\n"
     ]
    }
   ],
   "source": [
    "database.printb(title)"
   ]
  },
  {
   "cell_type": "markdown",
   "id": "2c9d323a",
   "metadata": {},
   "source": [
    "### 手动关闭数据库"
   ]
  },
  {
   "cell_type": "code",
   "execution_count": 111,
   "id": "2839c09e",
   "metadata": {},
   "outputs": [],
   "source": [
    "database.close()"
   ]
  },
  {
   "cell_type": "markdown",
   "id": "fd62bfb5",
   "metadata": {},
   "source": [
    "## 爬第一个网站的书\n",
    "\n",
    "网站地址：[https://www.smashwords.com/](https://www.smashwords.com/)\n",
    "\n",
    "这里使用了`parsel`模块，可以参考[官方文档](https://parsel.readthedocs.io/en/latest/usage.html#using-selectors)"
   ]
  },
  {
   "cell_type": "code",
   "execution_count": null,
   "id": "1446e748",
   "metadata": {},
   "outputs": [
    {
     "name": "stdout",
     "output_type": "stream",
     "text": [
      "[  BID]: 0\n",
      "[TITLE]: Boob Tube (a Soap Opera Novel)\n",
      "[AUTHR]: Mark Coker; & Lesleyann Coker\n",
      "[PTIME]: 2008-03-07\n",
      "[DESCR]: Actress Gina Martin lands a role on a top daytime television soap opera, and days later her predecessor is found dead in the Hollywood hills. Will Gina be next? Boob Tube offers readers a fast-paced read filled with intrigue and humor, and a surprise ending that will leave you breathless. Co-written by Lesleyann Coker, a former reporter for Soap Opera Weekly Magazine.\n",
      "[  BID]: 3\n",
      "[TITLE]: Boob Tube (a Soap Opera Novel)\n",
      "[AUTHR]: Mark Coker; & Lesleyann Coker\n",
      "[PTIME]: 2008-03-07\n",
      "[DESCR]: Actress Gina Martin lands a role on a top daytime television soap opera, and days later her predecessor is found dead in the Hollywood hills. Will Gina be next? Boob Tube offers readers a fast-paced read filled with intrigue and humor, and a surprise ending that will leave you breathless. Co-written by Lesleyann Coker, a former reporter for Soap Opera Weekly Magazine.\n",
      "Not Free 4\n",
      "Not Free 5\n",
      "Not Free 6\n",
      "No Book 7\n",
      "Not Free 8\n",
      "No Book 9\n",
      "No Book 10\n",
      "No Book 11\n",
      "Not Free 12\n",
      "No Book 13\n",
      "No Book 14\n",
      "No Book 15\n",
      "Not Free 16\n",
      "Not Free 17\n",
      "No Book 18\n",
      "No Book 19\n",
      "Not Free 20\n",
      "Not Free 21\n",
      "No Book 22\n",
      "No Book 23\n",
      "Not Free 24\n",
      "Not Free 25\n",
      "No Book 26\n",
      "Not Free 27\n",
      "No Book 28\n",
      "No Book 29\n",
      "No Book 30\n",
      "Not Free 31\n",
      "No Book 32\n",
      "No Book 33\n",
      "No Book 34\n",
      "Not Free 35\n",
      "Not Free 36\n",
      "Not Free 37\n",
      "[  BID]: 38\n",
      "[TITLE]: THE LONG DARK TUNNEL\n",
      "[AUTHR]: DHJohnson45\n",
      "[PTIME]: 2008-04-22\n",
      "[DESCR]: This screenplay is an homage to Hitchcock in the style of some of his greatest films, NORTH BY NORTHWEST, SABOTEUR, VERTIGO.  Set in the Los Angeles of 1939, an aspiring young British actor (who's in danger of being deported) comes to the rescue of a lovely damsel in distress from New York, whose life is in danger because of something she inadvertenly saw during a train trip.\n",
      "[  BID]: 39\n",
      "[TITLE]: IN OLD MONTEREY\n",
      "[AUTHR]: DHJohnson45\n",
      "[PTIME]: 2008-04-22\n",
      "[DESCR]: This screenplay, a Western Romance set in the Monterey, California, of 1912, is done in the style of Nicholas Sparks' THE NOTEBOOK.  An author, who competes with Zane Grey for the Western market, is suffering from writers' block and goes west in search of inspiration.  There, through a mysterious older woman, he learns the surprising secret of his origins.\n",
      "[  BID]: 40\n",
      "[TITLE]: Silent Giants: A North American Odyssey\n",
      "[AUTHR]: Ron Gruner\n",
      "[PTIME]: 2008-05-02\n",
      "[DESCR]: Occasionally life presents the opportunity to do something very special. For me that opportunity came in the summer of 1991 when I flew my classic Cessna 195 from St.John's, Newfoundland, to Cabo San Lucas, Mexico.\n",
      "\n",
      "Our story begins just as the cliffs of the Newfoundland coast slowly emerge from the gray ocean mist...\n",
      "Not Free 41\n",
      "Not Free 42\n",
      "Not Free 43\n",
      "No Book 44\n",
      "Not Free 45\n",
      "No Book 46\n",
      "No Book 47\n",
      "No Book 48\n",
      "No Book 49\n",
      "No Book 50\n",
      "No Book 51\n",
      "[  BID]: 52\n",
      "[TITLE]: Smashwords Style Guide\n",
      "[AUTHR]: Mark Coker\n",
      "[PTIME]: 2008-05-05\n",
      "[DESCR]: The Smashwords Style Guide has helped thousands of authors produce and publish high-quality ebooks. This free guide offers simple step-by-step instructions to create, format and publish an ebook.  It's required reading for any author who wants to distribute their book via Smashwords to major ebook retailers such as Apple iBooks, Barnes & Noble, Scribd, & Kobo. Revised September 24, 2014.\n",
      "No Book 53\n",
      "No Book 54\n",
      "Not Free 55\n",
      "No Book 56\n",
      "No Book 57\n",
      "[  BID]: 58\n",
      "[TITLE]: Mortal Ghost\n",
      "[AUTHR]: L. Lee Lowe\n",
      "[PTIME]: 2008-05-08\n",
      "[DESCR]: It's a fiery hot summer, and sixteen-year-old Jesse Wright is on the run. An oddly gifted boy, he arrives in a new city where the direction of his life is about to change. He's hungry and lonely and desperate - and beset by visions of a stranger who is being brutally tortured. And then there are Jesse's own memories of a fire ...\n",
      "Not Free 59\n",
      "Not Free 60\n",
      "No Book 61\n",
      "Not Free 62\n",
      "Not Free 63\n",
      "No Book 64\n",
      "No Book 65\n",
      "No Book 66\n",
      "No Book 67\n",
      "Not Free 68\n",
      "No Book 69\n",
      "No Book 70\n",
      "[  BID]: 71\n",
      "[TITLE]: The Han Shan Poems\n",
      "[AUTHR]: Norton Hodges\n",
      "[PTIME]: 2008-05-15\n",
      "[DESCR]: Han Shan ('Cold Mountain') is a figure associated with a collection of poems of the Tang dynasty in the Taoist/Zen tradition.\n",
      "[  BID]: 72\n",
      "[TITLE]: Delayed Reaction\n",
      "[AUTHR]: Sean Michael Hogan\n",
      "[PTIME]: 2008-05-16\n",
      "[DESCR]: Delayed Reaction is a collection of original poetry and prose ranging from free verse, playful lyricism to political commentary and personal essays.\n",
      "\n",
      "The pieces in this book were primarily written over a one-year span between 2003 and 2004, which  Sean likes to refer to as his \"This Time I Really Mean It\" period.\n",
      "No Book 73\n"
     ]
    }
   ],
   "source": [
    "import requests, time\n",
    "from parsel import Selector\n",
    "\n",
    "database = Database()\n",
    "url = \"https://www.smashwords.com/books/view/{bid}\"\n",
    "for i in range(3, 80000):\n",
    "    res = requests.get(url.format(bid=i))\n",
    "    if res.status_code == 404: \n",
    "        print(\"No Book\", i)\n",
    "        continue\n",
    "    selector = Selector(res.text)\n",
    "    title = selector.css(\"h1[itemprop='name']::text\").extract_first()\n",
    "    authr = selector.css(\"meta[name='Author']\").xpath('@content').extract_first()\n",
    "    descr = selector.css(\"meta[name='Description']\").xpath('@content').extract_first()\n",
    "    ptime = selector.css(\"li[itemprop='datePublished']\").xpath('@content').extract_first()\n",
    "    download_links = [link for link in selector.css(\"#download a\").xpath(\"@href\").getall() \n",
    "                      if link.endswith(\".txt\") or link.endswith(\".epub\")]\n",
    "    content = requests.get(\"https://www.smashwords.com\" + download_links[-1]).text if download_links else \"\"\n",
    "    if not (content and title and authr and ptime):\n",
    "        print(\"Not Free\", i)\n",
    "    else:\n",
    "        database.insert(i, title, authr, ptime, descr, content)\n",
    "        database.printb(title)\n",
    "    time.sleep(0.3)"
   ]
  }
 ],
 "metadata": {
  "kernelspec": {
   "display_name": "Python 3",
   "language": "python",
   "name": "python3"
  },
  "language_info": {
   "codemirror_mode": {
    "name": "ipython",
    "version": 3
   },
   "file_extension": ".py",
   "mimetype": "text/x-python",
   "name": "python",
   "nbconvert_exporter": "python",
   "pygments_lexer": "ipython3",
   "version": "3.8.3"
  }
 },
 "nbformat": 4,
 "nbformat_minor": 5
}
